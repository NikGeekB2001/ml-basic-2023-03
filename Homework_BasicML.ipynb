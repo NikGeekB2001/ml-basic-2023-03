{
 "cells": [
  {
   "cell_type": "markdown",
   "id": "11b6c3c6",
   "metadata": {},
   "source": [
    "### 1.\tЛинейная алгебра"
   ]
  },
  {
   "attachments": {
    "image.png": {
     "image/png": "[encoded data removed]"
    }
   },
   "cell_type": "markdown",
   "id": "a8d7597d",
   "metadata": {},
   "source": [
    "<h6 style= 'color: red'> \n",
    "Задание 1     \n",
    "</h6>        \n",
    "1.\tДаны матрицы:\n",
    "      \n",
    "'![image.png](attachment:image.png)'\n",
    "    \n",
    "Посчитайте матрицу D = A⊤C − 2A⊤B⊤. Приведите полную последовательность вычислений.\n",
    "\n"
   ]
  },
  {
   "cell_type": "code",
   "execution_count": 42,
   "id": "22bae096",
   "metadata": {},
   "outputs": [
    {
     "name": "stdout",
     "output_type": "stream",
     "text": [
      "Матрица А\n",
      "[[ 2 -4]\n",
      " [ 3  5]\n",
      " [-1  0]]\n",
      "Матрица В\n",
      "[[ 1  2  7]\n",
      " [-3 -4  0]\n",
      " [ 5  2  1]]\n",
      "Матрица C\n",
      "[[ 6 -3  9]\n",
      " [ 4 -5  2]\n",
      " [ 8  1  5]]\n"
     ]
    }
   ],
   "source": [
    "# Импортируем библиотеку NumPy\n",
    "import numpy as np\n",
    "\n",
    "# Задаем матрицы A, B и C:\n",
    "\n",
    "A = np.array([[2, -4],\n",
    "              [3, 5],\n",
    "              [-1, 0]])\n",
    "print ('Матрица А')\n",
    "print (A)\n",
    "\n",
    "B = np.array([[1, 2, 7],\n",
    "              [-3, -4, 0],\n",
    "              [5, 2, 1]])\n",
    "\n",
    "print ('Матрица В')\n",
    "print (B)\n",
    "\n",
    "C = np.array([[6, -3, 9],\n",
    "              [4, -5, 2],\n",
    "              [8, 1, 5]])\n",
    "\n",
    "print ('Матрица C')\n",
    "print (C)"
   ]
  },
  {
   "cell_type": "code",
   "execution_count": 43,
   "id": "2177165e",
   "metadata": {},
   "outputs": [
    {
     "name": "stdout",
     "output_type": "stream",
     "text": [
      "Транспонированная матрица A\n",
      "[[ 2  3 -1]\n",
      " [-4  5  0]]\n",
      "Транспонированная матрица A\n",
      "[[ 1 -3  5]\n",
      " [ 2 -4  2]\n",
      " [ 7  0  1]]\n",
      "Транспонированная матрица A\n",
      "[[ 6  4  8]\n",
      " [-3 -5  1]\n",
      " [ 9  2  5]]\n"
     ]
    }
   ],
   "source": [
    "# Находим транспонированные матрицы A⊤, B⊤ и C⊤ с помощью метода .T (То есть меняем местами строки и столбцы)\n",
    "A_T = A.T\n",
    "print('Транспонированная матрица A')\n",
    "print(A_T)\n",
    "\n",
    "B_T = B.T\n",
    "print('Транспонированная матрица A')\n",
    "print(B_T)\n",
    "\n",
    "C_T = C.T\n",
    "print('Транспонированная матрица A')\n",
    "print(C_T)"
   ]
  },
  {
   "cell_type": "code",
   "execution_count": 44,
   "id": "e58fd5db",
   "metadata": {},
   "outputs": [
    {
     "name": "stdout",
     "output_type": "stream",
     "text": [
      "Матрица A_T_C\n",
      "[[ 16 -22  19]\n",
      " [ -4 -13 -26]]\n",
      "Матрица A_T_B_T\n",
      "[[  1 -18  15]\n",
      " [  6  -8 -10]]\n"
     ]
    }
   ],
   "source": [
    "# Перемножаем матрицы A⊤ и C с помощью метода dot\n",
    "A_T_C = A_T.dot(C)\n",
    "print('Матрица A_T_C')\n",
    "print(A_T_C)\n",
    "\n",
    "# Перемножаем матрицы A⊤ и B⊤ с помощью оператора метода dot\n",
    "A_T_B_T = np.dot(A_T, B_T)\n",
    "print('Матрица A_T_B_T')\n",
    "print(A_T_B_T)"
   ]
  },
  {
   "cell_type": "code",
   "execution_count": 45,
   "id": "92e33a67",
   "metadata": {},
   "outputs": [
    {
     "name": "stdout",
     "output_type": "stream",
     "text": [
      "[[  2 -36  30]\n",
      " [ 12 -16 -20]]\n"
     ]
    }
   ],
   "source": [
    "# Умножаем транспонированный массив A на транспонированный массив B поэлементно и умножаем результат на 2/\n",
    "# Оператор * умножает матрицу на число или на другую матрицу поэлементно\n",
    "# Поэлементное умножение означает, что элемент в i-й строке и j-м столбце результата равен\n",
    "# соответствующей операции над элементами i-й строки и j-го столбца обоих матриц\n",
    "# Например, если A = [[1, 2], [3, 4]] и B = [[5, 6], [7, 8]], то A * B = [[5, 12], [21, 32]]\n",
    "\n",
    "ATBT2 = 2 * (A_T @ B_T) # Умножаем матрицы A_T и B_T и удваиваем результат\n",
    "\n",
    "print(ATBT2)"
   ]
  },
  {
   "cell_type": "code",
   "execution_count": 46,
   "id": "3a5eef12",
   "metadata": {},
   "outputs": [
    {
     "name": "stdout",
     "output_type": "stream",
     "text": [
      "Матрица D\n",
      "[[ 14  14 -11]\n",
      " [-16   3  -6]]\n"
     ]
    }
   ],
   "source": [
    "# Вычитаем из первого произведения второе произведение\n",
    "# Поэлементное вычитание означает, что элемент в i-й строке и j-м столбце результата равен\n",
    "# соответствующей операции над элементами i-й строки и j-го столбца обоих матриц\n",
    "# Например, если A = [[1, 2], [3, 4]] и B = [[5, 6], [7, 8]], то A - B = [[-4, -4], [-4, -4]] \n",
    "\n",
    "D = A_T_C - ATBT2 # Вычитаем из произведения A_T_C удвоенное произведение ATBT2\n",
    "\n",
    "\n",
    "print('Матрица D')\n",
    "print(D)"
   ]
  },
  {
   "attachments": {
    "image.png": {
     "image/png": "[encoded data removed]"
    }
   },
   "cell_type": "markdown",
   "id": "e136ae61",
   "metadata": {},
   "source": [
    "<h6 style= 'color: red'> \n",
    "Задание 2\n",
    "</h6> \n",
    "\n",
    "![image.png](attachment:image.png)\n",
    "    \n",
    "Найдите значения x, y, z и v, при которых выражение верно. \n",
    "\n",
    "\n"
   ]
  },
  {
   "cell_type": "code",
   "execution_count": 47,
   "id": "70fded48",
   "metadata": {},
   "outputs": [
    {
     "name": "stdout",
     "output_type": "stream",
     "text": [
      "[[ 8 10 -1]\n",
      " [ 1  6  4]]\n"
     ]
    }
   ],
   "source": [
    "import numpy as np\n",
    "# Подбираем значения в ручную, потом проверям\n",
    "A = np.array([[6, 6, 9], [-3, 18, 12]])\n",
    "B = np.array([[2, 4, -10], [4, -12, -8]])\n",
    "x = A + B\n",
    "print(x)\n",
    "\n",
    "\n",
    "\n"
   ]
  },
  {
   "attachments": {
    "image.png": {
     "image/png": "[encoded data removed]"
    }
   },
   "cell_type": "markdown",
   "id": "069e9930",
   "metadata": {},
   "source": [
    "<h6 style= 'color: red'> \n",
    "Задание 3\n",
    "\n",
    "    \n",
    "![image.png](attachment:image.png)\n",
    "    \n",
    "    \n",
    "Укажите те значения параметров p и q, при которых ранг матрицы равен единице\n",
    "</h6>  \n"
   ]
  },
  {
   "cell_type": "markdown",
   "id": "e656181e",
   "metadata": {},
   "source": [
    "#### Примечание:\n",
    "Представим, что мы работаем в трехмерном пространстве. Тогда каждый вектор-столбец из трех чисел можно рассматривать как координаты точки или направление от начала координат. Например, вектор-столбец [1, 2, 3] соответствует точке с координатами (1, 2, 3) или стрелке от (0, 0, 0) до (1, 2, 3).\n",
    "\n",
    "Если мы возьмем матрицу из трех векторов-столбцов, то мы можем нарисовать их в пространстве как три стрелки. Например, матрица\n",
    "\n",
    "|1 2 3|\n",
    "|2 4 6|\n",
    "|3 6 9|\n",
    "\n",
    "соответствует трем стрелкам.\n",
    "\n",
    "Мы видим, что эти три стрелки лежат на одной прямой. Это значит, что они линейно зависимы: каждая из них выражается через другие с помощью умножения на число. Например, вторая стрелка равна первой, умноженной на 2. Также мы видим, что эти три стрелки не заполняют все пространство: они не могут достичь точек, которые не лежат на их прямой. Это значит, что ранг этой матрицы равен единице: максимальное количество линейно независимых столбцов в ней — один.\n",
    "\n",
    "Теперь возьмем другую матрицу из трех векторов-столбцов:\n",
    "\n",
    "|1 2 3|\n",
    "|2 5 8|\n",
    "|3 6 9|\n",
    "\n",
    "Мы видим, что эти три стрелки не лежат на одной прямой. Однако они все еще линейно зависимы: третья стрелка равна сумме первой и второй. Также мы видим, что эти три стрелки не заполняют все пространство: они не могут достичь точек, которые не лежат на их плоскости. Это значит, что ранг этой матрицы равен двум: максимальное количество линейно независимых столбцов в ней — два.\n",
    "\n",
    "Наконец, возьмем третью матрицу из трех векторов-столбцов:\n",
    "\n",
    "|1 2 3|\n",
    "|2 5 7|\n",
    "|3 6 10|\n",
    "\n",
    "Мы видим, что эти три стрелки не лежат на одной прямой и не лежат в одной плоскости. Они линейно независимы: ни одна из них не выражается через другие с помощью сложения и умножения на число. Также мы видим, что эти три стрелки заполняют все пространство: они могут достичь любой точки с помощью их комбинации. Это значит, что ранг этой матрицы равен трем: максимальное количество линейно независимых столбцов в ней — три."
   ]
  },
  {
   "cell_type": "markdown",
   "id": "e8369eb0",
   "metadata": {},
   "source": [
    "###### Для того, чтобы найти ранг матрицы, мы можем использовать метод Гаусса.\n",
    "Этот метод заключается в том, что вы приводите матрицу к ступенчатому виду с помощью элементарных преобразований строк\n",
    "и столбцов, а затем считаете количество ненулевых строк. \n",
    "В нашем случае, матрица A имеет вид:\n",
    "\n",
    "       |1 2 3|\n",
    " A =   |3 6 p|       \n",
    "       |5 10 q|\n",
    "\n",
    "Применим элементарные преобразования:\n",
    "вычтем из второй строки первую, умноженную на 3, и из третьей строки первую, умноженную на 5:\n",
    "\n",
    "       |1 2 3|\n",
    " A =   |0 0 p-9|       \n",
    "       |0 0 q-15|\n",
    "\n",
    "Теперь матрица имеет ступенчатый вид. Ранг матрицы равен количеству ненулевых строк. \n",
    "Если p-9 и q-15 оба равны нулю, то ранг матрицы равен единице. Это происходит при p=9 и q=15.\n",
    "В остальных случаях ранг матрицы равен двум или трем, в зависимости от того, линейно зависимы ли столбцы с p и q или нет.\n",
    "\n",
    "Ответ: ранг матрицы равен единице при p=9 и q=15.\n"
   ]
  },
  {
   "cell_type": "code",
   "execution_count": 48,
   "id": "9ff5c98c",
   "metadata": {},
   "outputs": [
    {
     "name": "stdout",
     "output_type": "stream",
     "text": [
      "1\n"
     ]
    }
   ],
   "source": [
    "# проверяем \n",
    "import numpy as np\n",
    "A = np.array([[1, 2, 3], [3, 6, 9], [5, 10, 15]])\n",
    "print(np.linalg.matrix_rank(A))"
   ]
  },
  {
   "attachments": {
    "image.png": {
     "image/png": "[encoded data removed]"
    }
   },
   "cell_type": "markdown",
   "id": "8e774160",
   "metadata": {},
   "source": [
    "<h6 style= 'color: red'> \n",
    " Задание 4 \n",
    "    </h6> \n",
    "Исследовательское задание: малоранговая аппроксимация матрицы. \n",
    "\n",
    "1. Сгенерируйте случайную квадратную матрицу A ∈ Rn×n, n ≥ 100.\n",
    "2. Выполните сингулярное разложение этой матрицы, и получите три матрицы: U, S, V ⊤.\n",
    "3. Выполняйте аппроксимацию матрицы A с рангом r, меняя его значение, например, от 2 до n:\n",
    "\n",
    "A˜ = U[:, : r]S[: r, : r]V ⊤[: r, :],\n",
    "\n",
    "4. и каждый раз считайте ошибку апроксимации (как восстановленная матрица отличается от исходной):\n",
    "\n",
    "![image.png](attachment:image.png)\n",
    "\n",
    "5. Используя библиотеку matplotlib, постройте график зависимости ошибки аппроксимации матрицы от ранга r.\n",
    "\n"
   ]
  },
  {
   "cell_type": "markdown",
   "id": "ad4b6931",
   "metadata": {},
   "source": [
    "#### Выполняем сингулярное разложение A\n",
    "np.linalg.svd(A) - это функция из библиотеки NumPy, которая принимает на вход матрицу A и возвращает ее сингулярное разложение. Сингулярное разложение - это способ представить матрицу как произведение трех других матриц: U, S и V. Эти матрицы имеют особые свойства, которые делают их полезными для разных приложений, таких как анализ данных, сжатие изображений или решение систем уравнений. \n",
    "U, S, V = np.linalg.svd(A) - это способ присвоить результаты функции np.linalg.svd(A) трех переменным: U, S и V. Это значит, что после выполнения этой строки кода в переменной U будет храниться матрица U из сингулярного разложения A, в переменной S - матрица S, а в переменной V - матрица V. \n",
    "Сингулярное разложение (SVD) полезно для многих целей. Например, оно позволяет приблизить матрицу A с помощью матрицы меньшего ранга A_r, которая сохраняет наибольшую часть информации из A. Это может быть полезно для сжатия данных или уменьшения размерности. \n",
    "В этом коде мы используем SVD для того, чтобы построить график зависимости ошибки приближения матрицы от ранга r. Мы меняем r от 2 до n и смотрим, как меняется норма разности A и A_r. \n",
    "Мы видим, что чем больше r, тем меньше ошибка. Это значит, что мы можем выбрать оптимальное значение r, которое дает приемлемую ошибку и экономит память."
   ]
  },
  {
   "cell_type": "markdown",
   "id": "5a727f16",
   "metadata": {},
   "source": [
    "#### Используем библиотеку matplotlib\n",
    "для построения графика зависимости ошибки аппроксимации матрицы от ранга r. Мы используем функцию plt.plot (range (2, n + 1), errors) для создания линейного графика с аргументами range (2, n + 1) и errors. Аргумент range (2, n + 1) задает значения по оси x, а аргумент errors задает значения по оси y. Затем мы используем функции plt.xlabel ('Ранг r'), plt.ylabel ('Ошибка аппроксимации') и plt.title ('Малоранговая аппроксимация матрицы') для добавления подписей к осям и заголовка к графику. Наконец, мы используем функцию plt.show () для отображения графика на экране."
   ]
  },
  {
   "cell_type": "code",
   "execution_count": 59,
   "id": "7459e107",
   "metadata": {},
   "outputs": [
    {
     "name": "stdout",
     "output_type": "stream",
     "text": [
      "Матрица A\n",
      "[[0.76887285 0.72001904 0.59766642 ... 0.24529343 0.07648889 0.69184926]\n",
      " [0.59293917 0.83102358 0.39421058 ... 0.7060917  0.45754102 0.60455426]\n",
      " [0.14060538 0.48255094 0.23544427 ... 0.84428268 0.11561311 0.99878355]\n",
      " ...\n",
      " [0.47737672 0.4281067  0.59543019 ... 0.26892656 0.00999464 0.60165126]\n",
      " [0.05704999 0.64043807 0.6964331  ... 0.79944872 0.95347717 0.69970399]\n",
      " [0.70471755 0.02733902 0.75099151 ... 0.48619091 0.08816572 0.55428363]]\n"
     ]
    },
    {
     "data": {
      "image/png": "[encoded data removed]",
      "text/plain": [
       "<Figure size 640x480 with 1 Axes>"
      ]
     },
     "metadata": {},
     "output_type": "display_data"
    }
   ],
   "source": [
    "import numpy as np\n",
    "import matplotlib.pyplot as plt\n",
    "\n",
    "# Создаем случайную квадратную матрицу A размером n на n\n",
    "# В коде n = 100 означает, что мы задаем размер матрицы A как 100 на 100. То есть, матрица A состоит из 100 строк и 100 столбцов.\n",
    "# Мы можем выбрать любое другое значение для n, но оно должно быть целым положительным числом.\n",
    "n = 100 # задаем размер 100\n",
    "\n",
    "# Мы создаем матрицу A, заполняя ее случайными числами от 0 до 1. Мы используем функцию np.random.rand из библиотеки numpy,\n",
    "# которая принимает два аргумента: количество строк и столбцов матрицы. Мы передаем n и n, потому что мы хотим, чтобы матрица \n",
    "# была квадратной.\n",
    "A = np.random.rand (n, n)\n",
    "\n",
    "print('Матрица A')\n",
    "print (A)\n",
    "\n",
    "# Выполняем сингулярное разложение\n",
    "# Этот код означает, что мы разбиваем матрицу A на три матрицы U, S и VT так, что A = U @ S @ VT. \n",
    "# Это называется сингулярным разложением (SVD) и является одним из способов представить матрицу в виде произведения \n",
    "# других матриц. Мы используем функцию np.linalg.svd из библиотеки numpy, которая принимает один аргумент: \n",
    "# матрицу, которую нужно разложить. Она возвращает три матрицы: U, S и VT.\n",
    "\n",
    "# Матрица U состоит из левых сингулярных векторов A. Это ортогональная матрица, то есть ее столбцы являются взаимно\n",
    "# перпендикулярными единичными векторами.\n",
    "\n",
    "# Матрица S состоит из сингулярных значений A по убыванию на диагонали. Это диагональная матрица, то есть все ее элементы, \n",
    "# кроме диагонали, равны нулю. Сингулярные значения показывают, насколько важен каждый сингулярный вектор для приближения \n",
    "# матрицы A.\n",
    "\n",
    "# Матрица VT состоит из правых сингулярных векторов A. Это тоже ортогональная матрица, но она транспонирована.\n",
    "U, S, VT = np.linalg.svd (A)\n",
    "\n",
    "# Cоздаем переменную errors и присваиваем ей значение пустого списка, в который мы будем добавлять значения ошибок аппроксимации\n",
    "# матрицы A разными рангами r.\n",
    "errors = []\n",
    "\n",
    "# Меняем ранг r от 2 до n\n",
    "# Цикл for — это конструкция, которая позволяет повторять один и тот же блок кода для разных значений переменной. \n",
    "# В этом случае мы повторяем блок кода для разных значений переменной r, которая принимает значения от 2 до n включительно. \n",
    "# Для этого мы используем функцию range, которая возвращает последовательность чисел в заданном интервале. \n",
    "# Например, range (2, 5) возвращает [2, 3, 4]. Обрати внимание, что правая граница интервала не включается в последовательность. Поэтому мы пишем n + 1, чтобы получить последнее значение n.\n",
    "for r in range (2, n + 1):\n",
    "\n",
    "# Пояснение кода\n",
    "# Далее, мы берем только первые r столбцов из матрицы U, первые r строк и столбцов из матрицы S и первые r строк из матрицы VT.\n",
    "# Потом мы присваиваем переменной Ur значение матрицы U с обрезанными столбцами. Для этого мы используем срезы, которые \n",
    "# позволяют выбирать часть массива или списка по индексам. Синтаксис срезов такой: [начало:конец:шаг]. \n",
    "# Начало и конец — это индексы элементов, которые определяют границы среза. Шаг — это расстояние между элементами среза.\n",
    "# Если шаг не указан, то он равен единице. Если начало или конец не указаны, то они равны началу или концу массива или списка.\n",
    "\n",
    "# Ur В этом случае мы пишем U[:, :r], что означает: берем все строки из матрицы U (первый двоеточие) \n",
    "# и берем только первые r столбцов из матрицы U (второй двоеточие и r).\n",
    "# SrВ диагональнай матрице мы используем функцию np.diag, которая принимает одномерный массив и возвращает \n",
    "# диагональную матрицу с этим массивом на диагонали. Мы передаем функции np.diag срез S[:r], который берет первые r \n",
    "# элементов из массива S. Таким образом, мы получаем диагональную матрицу Sr размера r на r с сингулярными значениями A \n",
    "# на диагонали.\n",
    "# VTr с обрезанными строками. Для этого мы используем срез VT[:r, :], который берет первые r строк из матрицы VT\n",
    "# и все столбцы из матрицы VT.\n",
    "# Таким образом, мы создаем матрицы Ur, Sr и VTr ранга r из матриц U, S и VT, \n",
    "# полученных с помощью SVD (обрезанные матрицы U, S и VT до размера r).\n",
    "    Ur = U[:, :r]\n",
    "    Sr = np.diag (S[:r])\n",
    "    VTr = VT[:r, :]\n",
    "\n",
    "    #print('Матрица Ur')\n",
    "    #print (Ur)\n",
    "\n",
    "    #print('Матрица Sr')\n",
    "    #print (Sr)\n",
    "\n",
    "    #print('Матрица VTr')\n",
    "    #print (VTr)\n",
    "\n",
    "# Вычисляем аппроксимированную матрицу A_r\n",
    "# Мы вычисляем аппроксимированную матрицу A_r, которая приближает исходную матрицу A с помощью ранга r.\n",
    "# Мы присваиваем переменной A_r значение произведения матриц Ur, Sr и VTr. Для этого мы используем оператор @, \n",
    "# который означает умножение матриц. Мы перемножаем матрицы в том же порядке, в котором они получены из SVD: Ur @ Sr @ VTr. \n",
    "# Таким образом, мы получаем матрицу A_r размера n на n, которая является аппроксимацией матрицы A ранга r.\n",
    "\n",
    "# Теоретическая справка: аппроксимация матрицы ранга r — это такая матрица A_r, которая минимизирует норму разности\n",
    "# A - A_r среди всех матриц ранга r или меньше. Такая матрица существует и единственна для любого r и может быть найдена\n",
    "# с помощью SVD.\n",
    "    A_r = Ur @ Sr @ VTr\n",
    "    \n",
    "# Вычисляем ошибку аппроксимации по формуле\n",
    "# Ошибка аппроксимации — это мера того, насколько матрица A_r отличается от матрицы A.\n",
    "# Далее, мы присваиваем переменной error (ошибка) значение формулы для ошибки аппроксимации. \n",
    "# Формула такая: error = np.linalg.norm (A - A_r) / np.linalg.norm (A). Давайте разберем ее по частям.\n",
    "# np.linalg.norm — это функция из библиотеки numpy, которая вычисляет норму матрицы. \n",
    "# Норма матрицы — это мера ее размера или длины. Существует несколько видов норм, но по умолчанию функция \n",
    "# np.linalg.norm использует так называемую норму Фробениуса, которая определяется как квадратный корень \n",
    "# из суммы квадратов всех элементов матрицы. Например, норма Фробениуса матрицы\n",
    "# |1 2| |3 4| равна sqrt(1^2 + 2^2 + 3^2 + 4^2) = sqrt(30).\n",
    "# np.linalg.norm (A - A_r) — это норма разности матриц A и A_r.\n",
    "# Данное вырвжение, показывает, насколько эти матрицы отличаются друг от друга по всем элементам.\n",
    "# np.linalg.norm (A) — это норма матрицы A. Это показывает, какой размер или длина у матрицы A.\n",
    "# np.linalg.norm (A - A_r) / np.linalg.norm (A) — это отношение нормы разности матриц к норме исходной матрицы. \n",
    "# Это показывает, какой процент от размера или длины матрицы A составляет ее отличие от матрицы A_r. \n",
    "# Чем меньше это число, тем лучше аппроксимация.\n",
    "# Таким образом, мы вычисляем ошибку аппроксимации матрицы A ранга r по формуле:\n",
    "    \n",
    "    error = np.linalg.norm (A - A_r) / np.linalg.norm (A)\n",
    "    \n",
    "    #print('Ошибка аппроксимации')\n",
    "    #print(error)\n",
    "\n",
    "# Cоздадим пустой список errors в начале кода, чтобы хранить значения ошибок аппроксимации для разных рангов r.\n",
    "# Потом вызоваем метод append. Метод append — это способ добавить элемент в конец списка.\n",
    "# Мы вызываем метод append для списка errors и передаем ему значение переменной error, которое мы вычислили на предыдущем шаге.\n",
    "# Таким образом, мы добавляем ошибку аппроксимации матрицы A ранга r в список errors.\n",
    "    errors.append (error)\n",
    "\n",
    "# Вызоваем функцию plot. Функция plot — это способ построить линейный график по двум массивам или спискам значений: \n",
    "# один для оси x, другой для оси y. Мы вызываем функцию plot и передаем ей два аргумента: \n",
    "# range (2, n + 1) и errors. range (2, n + 1) — это последовательность чисел от 2 до n включительно, \n",
    "# которая соответствует рангам r, для которых мы вычисляли ошибки аппроксимации.\n",
    "# errors — это список значений ошибок аппроксимации, который мы заполняли в цикле for. \n",
    "# Таким образом, мы строим график зависимости ошибки аппроксимации от ранга r.\n",
    "plt.plot (range (2, n + 1), errors)\n",
    "\n",
    "# Вызоваем функцию xlabel. \n",
    "# Функция xlabel — это способ задать подпись для оси x на графике. Мы вызываем функцию xlabel и передаем\n",
    "# ей строку “Ранг r”, (подписываем) которая будет отображаться под осью x.\n",
    "plt.xlabel (\"Ранг r\")\n",
    "\n",
    "# Потом вызоваем функцию ylabel. Функция ylabel — это способ задать подпись для оси y на графике. \n",
    "# Мы вызываем функцию ylabel и передаем ей строку “Ошибка аппроксимации” (подписываем), которая будет отображаться \n",
    "# слева от оси y.\n",
    "plt.ylabel (\"Ошибка аппроксимации\")\n",
    "\n",
    "# После чего мы вызоваем функцию title. Функция title — это способ задать заголовок для графика. \n",
    "# Мы вызываем функцию title и передаем ей строку “График зависимости ошибки аппроксимации матрицы от ранга r”,\n",
    "# которая будет отображаться над графиком.\n",
    "plt.title (\"График зависимости ошибки аппроксимации матрицы от ранга r\")\n",
    "\n",
    "# Показываем линейный график зависимости ошибки аппроксимации матрицы A от ранга r.\n",
    "plt.show ()"
   ]
  },
  {
   "cell_type": "code",
   "execution_count": 50,
   "id": "3795d650",
   "metadata": {},
   "outputs": [
    {
     "data": {
      "image/png": "[encoded data removed]",
      "text/plain": [
       "<Figure size 640x480 with 1 Axes>"
      ]
     },
     "metadata": {},
     "output_type": "display_data"
    }
   ],
   "source": [
    "import numpy as np\n",
    "import matplotlib.pyplot as plt\n",
    "\n",
    "# Генерируем случайную квадратную матрицу A\n",
    "n = 100\n",
    "A = np.random.rand (n, n)\n",
    "\n",
    "# Выполняем сингулярное разложение\n",
    "U, S, VT = np.linalg.svd (A)\n",
    "\n",
    "# Создаем список для хранения ошибок аппроксимации\n",
    "errors = []\n",
    "\n",
    "# Меняем ранг r от 2 до n\n",
    "for r in range (2, n + 1):\n",
    "    # Обрезаем матрицы U, S и VT до размера r\n",
    "    Ur = U[:, :r]\n",
    "    Sr = np.diag (S[:r])\n",
    "    VTr = VT[:r, :]\n",
    "    \n",
    "    # Вычисляем аппроксимированную матрицу A_r\n",
    "    A_r = Ur @ Sr @ VTr\n",
    "    \n",
    "    # Вычисляем ошибку аппроксимации по формуле\n",
    "    error = np.linalg.norm (A - A_r) / np.linalg.norm (A)\n",
    "    \n",
    "    # Добавляем ошибку в список\n",
    "    errors.append (error)\n",
    "\n",
    "# Строим график зависимости ошибки от ранга\n",
    "plt.plot (range (2, n + 1), errors)\n",
    "plt.xlabel (\"Ранг r\")\n",
    "plt.ylabel (\"Ошибка аппроксимации\")\n",
    "plt.title (\"График зависимости ошибки аппроксимации матрицы от ранга r\")\n",
    "plt.show ()\n"
   ]
  },
  {
   "cell_type": "markdown",
   "id": "d6d0cd46",
   "metadata": {},
   "source": [
    "<h6 style= 'color: red'> \n",
    " 2. Начала мат.анализа и оптимизации </h6>\n"
   ]
  },
  {
   "attachments": {
    "image.png": {
     "image/png": "[encoded data removed]"
    }
   },
   "cell_type": "markdown",
   "id": "8cb894a9",
   "metadata": {},
   "source": [
    "<h6 style= 'color: red'> \n",
    "Задача 1\n",
    "</h6>\n",
    "1. Посчитайте матрицу Гессе следующей функции\n",
    "2. Найдите критические точки и определите их природу (локальный экстремумы или седловые).\n",
    "\n",
    "![image.png](attachment:image.png)"
   ]
  },
  {
   "cell_type": "markdown",
   "id": "89f79e32",
   "metadata": {},
   "source": [
    "##### Для того, чтобы посчитать матрицу Гессе функции f(x) = x1^3 - 2x1x2 + x2^2 - 3x1 - 2x2, нам нужно найти вторые частные производные этой функции по переменным x1 и x2. Матрица Гессе - это квадратная матрица из этих производных. \n",
    "SymPy - это библиотека для символьной математики в Python. Она позволяет работать с алгебраическими выражениями, дифференциальными уравнениями, матрицами и другими математическими объектами. Symbols - это функция, которая создает символы для переменных, которые мы можем использовать в наших выражениях. Hessian - это функция, которая вычисляет матрицу Гессе функции от нескольких переменных. Матрица Гессе - это квадратная матрица вторых производных функции, которая показывает ее кривизну в разных направлениях."
   ]
  },
  {
   "cell_type": "markdown",
   "id": "a6142964",
   "metadata": {},
   "source": [
    "<h6 style = 'color: blue'> Вариант 1 <h6>"
   ]
  },
  {
   "cell_type": "code",
   "execution_count": 51,
   "id": "6de1c653",
   "metadata": {},
   "outputs": [
    {
     "name": "stdout",
     "output_type": "stream",
     "text": [
      "Точка (-1, 0) является седловой точкой\n",
      "Точка (5/3, 8/3) является локальным минимумом\n"
     ]
    }
   ],
   "source": [
    "from sympy import symbols, hessian, solve\n",
    "\n",
    "# Мы находим критические точки функции f, решая систему уравнений, состоящую из частных производных функции f \n",
    "# по переменным x1 и x2, приравненных к нулю. Для этого используется функция solve из библиотеки sympy\n",
    "x1, x2 = symbols('x1 x2')\n",
    "f = x1**3 - 2*x1*x2 + x2**2 - 3*x1 - 2*x2\n",
    "\n",
    "# Вычисление матрицы Гессе\n",
    "# Матрица Гессе H является матрицей вторых производных функции f по переменным x1 и x2.\n",
    "# Функция hessian принимает два аргумента: первый - это функция, для которой вычисляется матрица Гессе,\n",
    "# а второй - это кортеж переменных, по которым вычисляются производные. В этом примере мы вычисляем матрицу Гессе \n",
    "# для функции f по переменным x1 и x2.\n",
    "H = hessian(f, (x1, x2))\n",
    "\n",
    "# Нахождение критических точек\n",
    "# Вычисляем частные производные функции f по переменным x1 и x2. \n",
    "# Для этого используем метод diff объекта f, который принимает в качестве аргумента переменную, \n",
    "# по которой вычисляется производная.\n",
    "# Решаем систему уравнений, состоящую из двух уравнений: dfdx1 = 0 и dfdx2 = 0. \n",
    "# Для этого используется функция solve из библиотеки sympy. \n",
    "# Первый аргумент функции solve - это список уравнений, которые нужно решить, а второй аргумент - это кортеж переменных, \n",
    "# которые нужно найти, относительно переменных x1 и x2.\n",
    "dfdx1 = f.diff(x1)\n",
    "dfdx2 = f.diff(x2)\n",
    "critical_points = solve([dfdx1, dfdx2], (x1, x2))\n",
    "\n",
    "# Определение природы критических точек точек функции f, вычисляя определитель матрицы Гессе H в этих точках и проверяя его знак.\n",
    "# Мы идем по списку критических точек critical_points в цикле for. Для каждой точки вычисляется определитель матрицы \n",
    "# Гессе H с помощью метода det. Затем значения переменных x1 и x2 заменяются на координаты текущей точки с помощью метода subs.\n",
    "# Далее проверяем знак определителя матрицы Гессе. Если он положительный и элемент на главной диагонали матрицы Гессе \n",
    "# положительный, то критическая точка является локальным минимумом. \n",
    "# Если определитель матрицы Гессе положительный и элемент на главной диагонали матрицы Гессе отрицательный, \n",
    "# то критическая точка является локальным максимумом. \n",
    "# Если определитель матрицы Гессе отрицательный, то критическая точка является седловой точкой.\n",
    "for point in critical_points:\n",
    "    detH = H.det().subs({x1: point[0], x2: point[1]})\n",
    "    if detH > 0:\n",
    "        if H[0,0].subs({x1: point[0], x2: point[1]}) > 0:\n",
    "            print(f\"Точка {point} является локальным минимумом\")\n",
    "        else:\n",
    "            print(f\"Точка {point} является локальным максимумом\")\n",
    "    elif detH < 0:\n",
    "        print(f\"Точка {point} является седловой точкой\")\n",
    "    else:\n",
    "        print(f\"Точка {point} не может быть классифицирована\")\n"
   ]
  },
  {
   "cell_type": "markdown",
   "id": "cbb5d9da",
   "metadata": {},
   "source": [
    "<h6 style ='color: blue'> Вариант 2\n",
    "    <h6>"
   ]
  },
  {
   "cell_type": "code",
   "execution_count": 52,
   "id": "bcb03851",
   "metadata": {},
   "outputs": [
    {
     "name": "stdout",
     "output_type": "stream",
     "text": [
      "(-1, 0) - седловая точка\n",
      "(5/3, 8/3) - локальный минимум\n"
     ]
    }
   ],
   "source": [
    "from sympy import symbols, hessian, solve\n",
    "\n",
    "x1, x2 = symbols('x1 x2')\n",
    "f = x1**3 - 2*x1*x2 + x2**2 - 3*x1 - 2*x2\n",
    "\n",
    "H = hessian(f, [x1, x2])\n",
    "\n",
    "critical_points = solve([f.diff(x) for x in [x1, x2]], [x1, x2])\n",
    "\n",
    "for point in critical_points:\n",
    "    H_point = H.subs([(x1, point[0]), (x2, point[1])])\n",
    "    eigenvalues = H_point.eigenvals()\n",
    "    if all(eigenvalue > 0 for eigenvalue in eigenvalues):\n",
    "        print(f\"{point} - локальный минимум\")\n",
    "    elif all(eigenvalue < 0 for eigenvalue in eigenvalues):\n",
    "        print(f\"{point} - локальный максимум\")\n",
    "    else:\n",
    "        print(f\"{point} - седловая точка\")\n"
   ]
  },
  {
   "cell_type": "markdown",
   "id": "4320cd11",
   "metadata": {},
   "source": [
    "<h6 style= 'color: blue'> \n",
    "Вариант 3 </h6>"
   ]
  },
  {
   "cell_type": "code",
   "execution_count": 53,
   "id": "cd151066",
   "metadata": {},
   "outputs": [
    {
     "name": "stdout",
     "output_type": "stream",
     "text": [
      "⎡6⋅x₁  -2⎤\n",
      "⎢        ⎥\n",
      "⎣ -2   2 ⎦\n",
      "[(-1, 0), (5/3, 8/3)]\n",
      "(-1, 0) - седловая точка\n",
      "(5/3, 8/3) - локальный минимум\n"
     ]
    }
   ],
   "source": [
    "# from sympy import * означает, что импортируются все функции и символы из библиотеки SymPy. \n",
    "# SymPy - это библиотека для символьных вычислений на языке Python.\n",
    "# init_printing() - это функция из библиотеки SymPy, которая позволяет красиво отображать математические выражения \n",
    "# в Jupyter Notebook.\n",
    "from sympy import *\n",
    "init_printing()\n",
    "\n",
    "# Мы используем библиотеку SymPy для символьных вычислений. В первой строке создаются символы x1 и x2, которые будут \n",
    "# использоваться в качестве переменных в математических выражениях. \n",
    "# В этой строке кода x1, x2 = symbols('x1 x2') апострофы используются для определения строки 'x1 x2', которая передается \n",
    "# в качестве аргумента функции symbols из библиотеки SymPy.\n",
    "# Функция symbols принимает строку с именами символов, разделенными пробелами, и возвращает кортеж символов. \n",
    "# В этом случае функция symbols('x1 x2') возвращает кортеж (x1, x2), который затем распаковывается в переменные x1 и x2.\n",
    "# Во второй строке определяется функция f как f = x1**3 - 2*x1*x2 + x2**2 - 3*x1 - 2*x2.\n",
    "x1, x2 = symbols('x1 x2')\n",
    "f = x1**3 - 2*x1*x2 + x2**2 - 3*x1 - 2*x2\n",
    "\n",
    "# В этом коде мы используем функция hessian из библиотеки SymPy для вычисления матрицы Гессе. Аргументами этой функции\n",
    "# являются функция f и кортеж переменных (x1, x2). Результат сохраняется в переменной H.\n",
    "# Затем используется функция pprint из библиотеки SymPy для красивого отображения матрицы Гессе.\n",
    "# Матрица Гессе\n",
    "H = hessian(f, (x1, x2))\n",
    "pprint(H)\n",
    "\n",
    "# Критические точки\n",
    "# далее мы вычисляем критические точки функции f. Критические точки - это точки, в которых первые производные функции\n",
    "# равны нулю. Они могут соответствовать локальным экстремумам (минимумам или максимумам) или седловым точкам.\n",
    "# Используем функцию diff из библиотеки SymPy для вычисления первых производных функции f по переменным x1 и x2. \n",
    "# Затем используем функцию solve из библиотеки SymPy для решения системы уравнений, состоящей из этих производных.\n",
    "# Аргументами этой функции являются список уравнений и список переменных.\n",
    "crit_points = solve([diff(f, x1), diff(f, x2)], [x1, x2])\n",
    "pprint(crit_points)\n",
    "\n",
    "# Определение природы критических точек\n",
    "# Потом мы определяем природу критических точек функции f. Для этого используется матрица Гессе H, вычисленная ранее.\n",
    "# Код проходит по списку критических точек crit_points в цикле for. Для каждой точки вычисляются собственные \n",
    "# значения матрицы Гессе в этой точке с помощью метода eigenvals. \n",
    "# Метод eigenvals - это метод объектов класса Matrix в библиотеке SymPy. Он используется для вычисления собственных\n",
    "# значений матрицы. Собственные значения матрицы - это числа, которые удовлетворяют характеристическому уравнению матрицы. \n",
    "# Метод eigenvals используется для вычисления собственных значений матрицы Гессе в критических точках функции. \n",
    "# Cобственные значения гессиана H вычисляются при подстановке координат критической точки point вместо переменных x1 и x2.\n",
    "# Это делается с помощью метода subs, который заменяет символы на значения в словаре. \n",
    "# Метод eigenvals возвращает словарь, где ключи - собственные значения, а значения - их кратности.\n",
    "# Затем эти значения используются для определения природы критической точки.\n",
    "# Если все собственные значения положительны, то критическая точка является локальным минимумом. \n",
    "# Если все собственные значения отрицательны, то критическая точка является локальным максимумом.\n",
    "# В противном случае критическая точка является седловой.\n",
    "for point in crit_points:\n",
    "    eigenvals = H.subs({x1: point[0], x2: point[1]}).eigenvals()\n",
    "    if all(val > 0 for val in eigenvals):\n",
    "        print(f\"{point} - локальный минимум\")\n",
    "    elif all(val < 0 for val in eigenvals):\n",
    "        print(f\"{point} - локальный максимум\")\n",
    "    else:\n",
    "        pprint(f\"{point} - седловая точка\")\n"
   ]
  },
  {
   "attachments": {
    "image.png": {
     "image/png": "[encoded data removed]"
    }
   },
   "cell_type": "markdown",
   "id": "4e904e26",
   "metadata": {},
   "source": [
    "<h6 style= 'color: red'> \n",
    "Задача 2\n",
    "</h6>\n",
    "Проверьте, что функция f = ln( x1 +  x2) удовлетворяет уравнению:\n",
    "x1df/dx1+ x2df/dx2 = 1/2\n",
    "\n",
    "![image.png](attachment:image.png)\n"
   ]
  },
  {
   "cell_type": "markdown",
   "id": "6000fb93",
   "metadata": {},
   "source": [
    "#### В этом коде мы определяем функцию f как ln(√x1 + √x2) с помощью методов ln и sqrt из библиотеки sympy. \n",
    "1. sympy - это библиотека для символьных вычислений на языке Python. Она позволяет работать с символьными выражениями и выполнять аналитические преобразования.\n",
    "Символ symbols используется для создания символьных переменных. Например, x1, x2 = symbols('x1 x2') создает две символьные переменные x1 и x2, которые могут быть использованы в символьных выражениях.\n",
    "Символ ln представляет натуральный логарифм. Он используется для создания символьных выражений, содержащих натуральный логарифм. Например, f = ln(x) создает символьное выражение, представляющее натуральный логарифм переменной x.\n",
    "Символ sqrt представляет квадратный корень. Он используется для создания символьных выражений, содержащих квадратный корень. Например, f = sqrt(x) создает символьное выражение, представляющее квадратный корень переменной x.\n",
    "\n",
    "2. Далее мы создаем две символьные переменные x1 и x2 и определяет символьное выражение f как ln(√x1 + √x2).\n",
    "Используем функцию symbols из библиотеки sympy для создания двух символьных переменных x1 и x2. Аргумент функции symbols - это строка, содержащая имена символьных переменных, разделенные пробелами. Мы создаем две символьные переменные с именами x1 и x2.\n",
    "После чего определяем символьное выражение f как ln(√x1 + √x2). Для этого используются символы ln и sqrt из библиотеки sympy, которые представляют натуральный логарифм и квадратный корень. В этом примере мы определяем функцию f как натуральный логарифм суммы квадратных корней переменных x1 и x2.\n",
    "\n",
    "3. Вычисляем частную производную функции f по переменной x1. Для этого используется метод diff объекта f, который принимает в качестве аргумента переменную, по которой вычисляется производная. Мы вычисляем частную производную функции f по переменной x1.\n",
    "После аналогично вычисляем частную производную функции f по переменной x2.\n",
    "Результатом выполнения этого фрагмента кода являются две символьные переменные dfdx1 и dfdx2, которые представляют частные производные функции f по переменным x1 и x2.\n",
    "\n",
    "4. Далее мы проверяем уравнение x1 * ∂f/∂x1 + x2 * ∂f/∂x2 = 1/2, подставляя вычисленные ранее частные производные функции f в левую часть уравнения и вычитая 1/2.\n",
    "Создаем символьное выражение equation, представляющее левую часть уравнения x1 * ∂f/∂x1 + x2 * ∂f/∂x2 - 1/2. Для этого используются символьные переменные x1, x2, dfdx1 и dfdx2, которые были определены ранее.\n",
    "Упрощаем выражение equation с помощью метода simplify. Этот метод пытается преобразовать символьное выражение в более простую форму.\n",
    "После выводим результат упрощения выражения equation. Если функция f удовлетворяет уравнению, то результат должен быть равен нулю.\n",
    "Выводим на \"печать\"значение 0, что означает, что функция f удовлетворяет уравнению."
   ]
  },
  {
   "cell_type": "code",
   "execution_count": 54,
   "id": "65d598b6",
   "metadata": {},
   "outputs": [
    {
     "name": "stdout",
     "output_type": "stream",
     "text": [
      "Функция f удовлетворяет уравнению.\n"
     ]
    }
   ],
   "source": [
    "from sympy import symbols, sqrt, ln, diff\n",
    "\n",
    "# Мы определяем символы x1 и x2, затем задаем функцию f\n",
    "x1, x2 = symbols('x1 x2')\n",
    "f = ln(sqrt(x1) + sqrt(x2))\n",
    "\n",
    "# Далее мы вычисляем частные производные функции f по x1 и x2 с помощью функции diff.\n",
    "df_dx1 = diff(f, x1)\n",
    "df_dx2 = diff(f, x2)\n",
    "\n",
    "# Cоставляем уравнение x1 * ∂f/∂x1 + x2 * ∂f/∂x2 = 1/2, которое нужно проверить. \n",
    "# df_dx1 и df_dx2 - это частные производные функции f по x1 и x2. Они были вычислены ранее с помощью функции diff. \n",
    "# Таким образом, equation = x1 * df_dx1 + x2 * df_dx2 - 1/2 означает, что мы вычисляем левую часть уравнения и \n",
    "# вычитаем из неё 1/2. Если полученное значение равно нулю (то есть левая часть уравнения равна правой),\n",
    "# то функция f удовлетворяет уравнению.\n",
    "equation = x1 * df_dx1 + x2 * df_dx2 - 1/2\n",
    "\n",
    "# Затем мы составляем уравнение и проверяем его равенство нулю с помощью метода .simplify(). \n",
    "# И выводим результат на экран.\n",
    "if equation.simplify() == 0:\n",
    "    print(\"Функция f удовлетворяет уравнению.\")\n",
    "else:\n",
    "    print(\"Функция f не удовлетворяет уравнению.\")\n"
   ]
  },
  {
   "cell_type": "markdown",
   "id": "7f651c04",
   "metadata": {},
   "source": [
    "<h6 style= 'color: red'> \n",
    "Задача 3\n",
    "</h6>\n",
    "Предположим, задана функция f : R3 → R2:\n",
    "f(x,y,z) = (x + y + z, xyz)⊤.\n",
    "Найдите матрицу Якоби Jf функции f, и её численное значение в точке v = (1,2,3)⊤.\n"
   ]
  },
  {
   "cell_type": "markdown",
   "id": "3a81cdad",
   "metadata": {},
   "source": [
    "### Матрица Якоби функции f имеет вид:\n",
    "$$\n",
    "Jf(x,y,z) = \n",
    "\\begin{pmatrix}\n",
    "\\frac{\\partial f_1}{\\partial x} & \\frac{\\partial f_1}{\\partial y} & \\frac{\\partial f_1}{\\partial z} \\\\\n",
    "\\frac{\\partial f_2}{\\partial x} & \\frac{\\partial f_2}{\\partial y} & \\frac{\\partial f_2}{\\partial z}\n",
    "\\end{pmatrix}\n",
    "=\n",
    "\\begin{pmatrix}\n",
    "1 & 1 & 1 \\\\\n",
    "yz & xz & xy\n",
    "\\end{pmatrix}.\n",
    "$$\n",
    "В точке v = (1,2,3)⊤ матрица Якоби имеет численное значение:\n",
    "$$\n",
    "Jf(1,2,3) =\n",
    "\\begin{pmatrix}\n",
    "1 & 1 & 1 \\\\\n",
    "6 & 3 & 2\n",
    "\\end{pmatrix}.\n",
    "$$"
   ]
  },
  {
   "cell_type": "markdown",
   "id": "8390f41f",
   "metadata": {},
   "source": [
    "#### Решение задачи:\n"
   ]
  },
  {
   "cell_type": "code",
   "execution_count": 55,
   "id": "81b28e9f",
   "metadata": {},
   "outputs": [
    {
     "name": "stdout",
     "output_type": "stream",
     "text": [
      "Матрица Якоби: Matrix([[1, 1, 1], [y*z, x*z, x*y]])\n",
      "Значение матрицы Якоби в точке v: Matrix([[1, 1, 1], [6, 3, 2]])\n"
     ]
    }
   ],
   "source": [
    "# Импортируем необходимые функции из библиотеки SymPy. symbols используется для создания символьных переменных, \n",
    "# а Matrix для работы с матрицами.\n",
    "from sympy import symbols, Matrix\n",
    "\n",
    "# Мы создаем три символьные переменные x, y и z с помощью функции symbols. Это позволяет нам оперировать с ними как \n",
    "# с абстрактными величинами, не присваивая им конкретных значений.\n",
    "x, y, z = symbols('x y z')\n",
    "\n",
    "# Далее создаем матрицу f размера 2 на 1 из двух выражений: x + y + z и xyz. Это наша функция векторного аргумента (x, y, z), \n",
    "# которую мы хотим дифференцировать.\n",
    "f = Matrix([x + y + z, x*y*z])\n",
    "\n",
    "# Создаем матрицу v размера 3 на 1 из трех чисел: 1, 2 и 3. Это наш вектор, в котором мы хотим вычислить значение матрицы Якоби.\n",
    "v = Matrix([1, 2, 3])\n",
    "\n",
    "#  создаем матрицу Jf размера 2 на 3 из частных производных функции f по каждой компоненте вектора (x, y, z). \n",
    "# Для этого используем метод jacobian у объекта Matrix, который принимает список переменных, по которым дифференцируем.\n",
    "# Это наша матрица Якоби функции f.\n",
    "Jf = f.jacobian([x, y, z])\n",
    "\n",
    "# создаем матрицу Jf_v размера 2 на 3 из значений матрицы Jf в точке v. Для этого используем метод subs у объекта Matrix,\n",
    "# который принимает список подстановок вида (переменная, значение). В данном случае мы подставляем вместо x первый элемент\n",
    "# вектора v, вместо y второй элемент и вместо z третий элемент.\n",
    "Jf_v = Jf.subs([(x,v[0]), (y,v[1]), (z,v[2])])\n",
    "\n",
    "print(f\"Матрица Якоби: {Jf}\")\n",
    "print(f\"Значение матрицы Якоби в точке v: {Jf_v}\")\n"
   ]
  },
  {
   "attachments": {
    "image.png": {
     "image/png": "[encoded data removed]"
    }
   },
   "cell_type": "markdown",
   "id": "b585927d",
   "metadata": {},
   "source": [
    "<h6 style= 'color: red'> \n",
    "Задача 4\n",
    "</h6>\n",
    "(Куб евклидовой нормы). Найти первый и второй дифференциалы df(x) и d2f(x), а также градиент ∇f(x) и гессиан ∇2f(x) функции:\n",
    " \n",
    " \n",
    "![image.png](attachment:image.png)!"
   ]
  },
  {
   "cell_type": "markdown",
   "id": "ddfa44e0",
   "metadata": {},
   "source": [
    "`f(x) = 1\n",
    "3\n",
    "||x||3 2, x ∈ Rn \\ {0}`"
   ]
  },
  {
   "cell_type": "markdown",
   "id": "6d5e5551",
   "metadata": {},
   "source": [
    "\n",
    "Функция f(x) = 1/3 ||x||^3_2, x ∈ Rn \\ {0} называется **кубом евклидовой нормы**, где ||x||_2 обозначает **евклидову норму** или **2-норму** вектора x. Эта норма определяется как квадратный корень из скалярного произведения вектора с самим собой.\n",
    "- Функция np.linalg.norm принимает вектор или матрицу и возвращает скалярное значение нормы. Норма - это мера длины или размера вектора или матрицы. Существует много видов норм, которые отличаются тем, как они учитывают разные аспекты вектора или матрицы. Например, 1-норма равна сумме модулей всех элементов вектора или матрицы, а бесконечная норма равна максимальному модулю элемента вектора или матрицы.\n",
    "- Градиент - это вектор, который указывает направление наискорейшего роста функции. Для вычисления градиента функции нескольких переменных нужно найти частные производные функции по каждой переменной и составить из них вектор.\n",
    "\n",
    "В нашем случае функция f(x) зависит от всех компонентов вектора x, поэтому градиент будет иметь ту же размерность, что и x. \n",
    "В нашем случае мы используем 2-норму или евклидову норму, которая является самой распространенной нормой для векторов и матриц. Евклидова норма вектора равна квадратному корню из суммы квадратов его элементов. Евклидова норма матрицы равна квадратному корню из суммы квадратов всех ее элементов. Эта норма соответствует обычному понятию длины или расстояния в евклидовом пространстве.\n",
    "Для вычисления первого и второго дифференциалов df(x) и d2f(x), а также градиента ∇f(x) и гессиана ∇2f(x) этой функции, можно использовать следующие формулы:\n",
    "\n",
    "- df(x) = ||x||_2 dx\n",
    "- d2f(x) = (dx)^T dx + ||x||_2 d2x\n",
    "- ∇f(x) = x/||x||_2\n",
    "- ∇2f(x) = (I - xx^T/||x||_2^2)/||x||_2\n",
    "\n",
    "Здесь I обозначает единичную матрицу, а x^T - транспонированный вектор x."
   ]
  },
  {
   "cell_type": "code",
   "execution_count": 56,
   "id": "a403d354",
   "metadata": {
    "scrolled": true
   },
   "outputs": [
    {
     "name": "stdout",
     "output_type": "stream",
     "text": [
      "f(x) = 17.46106780494506\n",
      "grad_f(x) = [ 3.74165739  7.48331477 11.22497216]\n",
      "hess_f(x) = [[4.00891863 0.53452248 0.80178373]\n",
      " [0.53452248 4.81070235 1.60356745]\n",
      " [0.80178373 1.60356745 6.14700856]]\n",
      "df(x) = 2.244994432064365\n",
      "d2f(x) = 0.6200460812368245\n"
     ]
    }
   ],
   "source": [
    "# Импортируем библиотеку numpy для работы с векторами и матрицами\n",
    "import numpy as np\n",
    "\n",
    "# Определяем функцию f(x) = 1/3 ||x||^3_2, которая возвращает куб евклидовой нормы вектора x. Для вычисления евклидовой\n",
    "# нормы используется функция np.linalg.norm из библиотеки NumPy, которая принимает вектор или матрицу и возвращает \n",
    "# скалярное значение нормы. В данном случае функция np.linalg.norm применяется к вектору x без дополнительных параметров,\n",
    "# что означает, что используется стандартная 2-норма. Затем полученное значение возводится в куб и делится на 3, чтобы\n",
    "# получить значение функции f(x).\n",
    "def f(x):\n",
    "  return (np.linalg.norm(x)**3) / 3\n",
    "\n",
    "# Определяем функцию для вычисления градиента f(x) = ||x||_2 * x\n",
    "# Это означает, что мы хотим найти направление и скорость изменения функции f(x) в зависимости от вектора x.\n",
    "# Градиент - это вектор, который указывает на направление наискорейшего роста функции и имеет длину, равную скорости роста.\n",
    "# Затем умножаем норму на сумму единичного вектора и нормированного вектора x. Это значение возвращается из функции\n",
    "# с помощью ключевого слова return.\n",
    "# Единичный вектор - это вектор, который имеет длину 1 и указывает на то же направление, что и исходный вектор.\n",
    "# Он получается путем деления исходного вектора на его норму.\n",
    "# Например, если x = [3, 4], то единичный вектор x / np.linalg.norm(x) = [0.6, 0.8].\n",
    "# Нормированный вектор - это вектор, который имеет ту же длину, что и исходный вектор, но указывает на противоположное\n",
    "# направление. Он получается путем умножения исходного вектора на -1.\n",
    "# Например, если x = [3, 4], то нормированный вектор -x = [-3, -4].\n",
    "# Сумма единичного вектора и нормированного вектора - это вектор, который имеет длину 2 и указывает на перпендикулярное \n",
    "# направление к исходному вектору. Он получается путем сложения единичного и нормированного векторов.\n",
    "# Например, если x = [3, 4], то сумма единичного вектора и нормированного вектора x / np.linalg.norm(x) + -x = [-2.4, -3.2].\n",
    "# Умножение нормы на этот вектор дает градиент функции f(x) = ||x||_2 * x.\n",
    "def grad_f(x):\n",
    "  return np.linalg.norm(x) * x\n",
    "\n",
    "# Определяем функцию для вычисления гессиана f(x) = ||x||_2 * I + (x * x^T) / ||x||_2\n",
    "# Мы хотим найти матрицу вторых производных функции f(x) по вектору x. Гессиан - это матрица, которая содержит информацию \n",
    "# о кривизне функции в разных направлениях и позволяет определить ее экстремумы и точки перегиба.\n",
    "# Мы реализуем эту формулу с помощью функций np.linalg.norm, np.eye и np.outer.\n",
    "# Функция np.linalg.norm(x) вычисляет евклидову норму вектора x, то есть расстояние от начала координат до точки, \n",
    "# заданной вектором x. Она равна квадратному корню из суммы квадратов координат вектора x.\n",
    "# Функция np.eye(n) создает единичную матрицу размера n, то есть квадратную матрицу, у которой на главной диагонали \n",
    "# стоят единицы, а остальные элементы равны нулю.\n",
    "# В этом коде I это единичная матрица размера n, то есть квадратная матрица, у которой все элементы на главной диагонали\n",
    "# равны 1, а остальные равны 01. Единичная матрица обозначается буквой I или E2.\n",
    "# В коде используется функция np.eye(n) из библиотеки numpy, которая возвращает единичную матрицу заданного размера3.\n",
    "# Функция np.outer(x, x) вычисляет внешнее произведение векторов x и x, то есть матрицу, у которой элемент в i-й строке \n",
    "# и j-м столбце равен произведению i-й и j-й координат векторов x и x.\n",
    "# Затем складываем произведение нормы вектора x и единичной матрицы с частным внешнего произведения векторов x и x \n",
    "# и нормы вектора x, возвращаем значение из функции\n",
    "def hess_f(x):\n",
    "  n = len(x) # Размерность вектора x\n",
    "  I = np.eye(n) # Единичная матрица размера n\n",
    "  return np.linalg.norm(x) * I + np.outer(x, x) / np.linalg.norm(x)\n",
    "\n",
    "# Определяем функцию для вычисления первого дифференциала df(x) = <grad_f(x), dx>\n",
    "# Этот код определяет функцию для вычисления первого дифференциала функции f(x) по направлению dx. \n",
    "# Первый дифференциал — это линейная часть приращения функции при малом изменении аргумента. \n",
    "# Формула для первого дифференциала имеет вид: df(x) = <grad_f(x), dx>, где grad_f(x) — градиент функции f(x), \n",
    "# а <a, b> — скалярное произведение векторов a и b. В коде используется функция np.dot(a, b) из библиотеки numpy,\n",
    "# которая возвращает скалярное произведение двух векторов a и b3.\n",
    "def df(x, dx):\n",
    "  return np.dot(grad_f(x), dx)\n",
    "\n",
    "# Определяем функцию для вычисления второго дифференциала d2f(x) = <dx, hess_f(x) * dx>\n",
    "# Мы определяем функцию для вычисления второго дифференциала функции f(x) по направлению dx. \n",
    "# Второй дифференциал — это дифференциал от дифференциала первого порядка, то есть d2f(x) = d(df(x)). \n",
    "# Формула для второго дифференциала имеет вид: d2f(x) = <dx, hess_f(x) * dx>, где hess_f(x) — гессиан функции f(x), \n",
    "# то есть матрица вторых частных производных, а <a, b> — скалярное произведение векторов a и b.\n",
    "# Мы используем функции np.dot(a, b) и hess_f(x) из библиотеки numpy, которые возвращают скалярное произведение \n",
    "# двух векторов a и b и гессиан функции f(x).\n",
    "def d2f(x, dx):\n",
    "  return np.dot(dx, hess_f(x).dot(dx))\n",
    "\n",
    "# Задаем некоторый вектор x с помощью функции numpy.array. Вектор — это одномерный массив, то есть список элементов \n",
    "# одинакового типа.\n",
    "x = np.array([1, 2, 3])\n",
    "\n",
    "# Задаем некоторое приращение dx с помощью функции numpy.array. Приращение — это разность между двумя близкими значениями \n",
    "# переменной. В данном случае приращение dx имеет три компоненты: 0.1, -0.2 и 0.3. \n",
    "dx = np.array([0.1, -0.2, 0.3])\n",
    "\n",
    "# Выводим результаты на экран\n",
    "print(\"f(x) =\", f(x))\n",
    "print(\"grad_f(x) =\", grad_f(x))\n",
    "print(\"hess_f(x) =\", hess_f(x))\n",
    "print(\"df(x) =\", df(x, dx))\n",
    "print(\"d2f(x) =\", d2f(x, dx))\n"
   ]
  },
  {
   "cell_type": "markdown",
   "id": "9f7a480a",
   "metadata": {},
   "source": [
    "<h6 style= 'color: red'> \n",
    "Задача 5\n",
    "</h6>\n",
    "\n",
    "(Евклидова норма). Найти первый и второй дифференциалы df(x) и d2f(x), а также градиент ∇f(x) и гессиан ∇2f(x) функции:\n",
    "f(x) = ||x||2,\tx ∈ Rn \\ {0}.\n"
   ]
  },
  {
   "cell_type": "markdown",
   "id": "a45a1221",
   "metadata": {},
   "source": [
    " Евклидова норма — это функционал, заданный на векторном пространстве и обобщающий понятие длины вектора или абсолютного значения числа. \n",
    "Для вектора x = (x1, x2, …, xn) ∈ Rn евклидова норма определяется как ||x|| = √(x1^2 + x2^2 + … + xn^2). \n",
    "Для справки: Для матрицы A = (aij) ∈ Rm×n евклидова норма или норма Фробениуса определяется как ||A|| = √(∑i=1m ∑j=1n aij^2)23.\n",
    "\n",
    "Для функции f(x) = ||x||2, x ∈ Rn \\ {0} можно найти следующие дифференциалы, градиент и гессиан:\n",
    "\n",
    "df(x) = 2||x||dx\n",
    "\n",
    "d2f(x) = 2dx⊗dx + 2||x||d2x\n",
    "\n",
    "∇f(x) = 2x\n",
    "\n",
    "∇2f(x) = 2In\n",
    "\n",
    "где dx и d2x — дифференциалы первого и второго порядка вектора x, ⊗ — тензорное произведение, In — единичная матрица размера n."
   ]
  },
  {
   "cell_type": "code",
   "execution_count": 57,
   "id": "90735c34",
   "metadata": {},
   "outputs": [
    {
     "name": "stdout",
     "output_type": "stream",
     "text": [
      "f([1 2 3]) = 3.7416573867739413\n",
      "df([1 2 3]) = [2 4 6]\n",
      "d2f([1 2 3]) = [[2. 0. 0.]\n",
      " [0. 2. 0.]\n",
      " [0. 0. 2.]]\n",
      "grad_f([1 2 3]) = [2 4 6]\n",
      "hessian_f([1 2 3]) = [[2. 0. 0.]\n",
      " [0. 2. 0.]\n",
      " [0. 0. 2.]]\n"
     ]
    }
   ],
   "source": [
    "import numpy as np\n",
    "\n",
    "# Определяем функцию f(x) = ||x||2\n",
    "# Функция f(x) = ||x||2 определяет квадрат нормы вектора x в двумерном или трехмерном пространстве. \n",
    "# В данном случае, функция f(x) = ||x||2 принимает вектор x и возвращает квадрат его нормы.\n",
    "def f(x):\n",
    "    return np.linalg.norm(x)\n",
    "\n",
    "# Определяем функцию df(x), которая возвращает первый дифференциал функции f(x)\n",
    "# Функция df(x) возвращает первый дифференциал функции f(x). В данном случае, функция f(x) = ||x||2,\n",
    "# а ее первый дифференциал равен 2x.\n",
    "def df(x):\n",
    "    return 2 * x\n",
    "\n",
    "# Определяем функцию d2f(x), которая возвращает второй дифференциал функции f(x)\n",
    "# Функция d2f(x) возвращает второй дифференциал функции f(x). В данном случае, функция f(x) не определена, \n",
    "# но ее первый дифференциал равен 2x.\n",
    "def d2f(x):\n",
    "    return 2 * np.eye(len(x))\n",
    "\n",
    "# Определяем функцию grad_f(x), которая возвращает градиент функции f(x)\n",
    "# Градиент функции - это вектор ее частных производных по каждой переменной. В данном случае, функция grad_f(x) \n",
    "# использует другую функцию df(x), чтобы вычислить градиент функции f(x).\n",
    "def grad_f(x):\n",
    "    return df(x)\n",
    "\n",
    "# Определяем функцию hessian_f(x), которая возвращает гессиан функции f(x)\n",
    "# Гессиан функции - это матрица ее вторых производных. В данном случае, функция hessian_f(x) использует другую функцию d2f(x), \n",
    "# чтобы вычислить гессиан функции f(x).\n",
    "def hessian_f(x):\n",
    "    return d2f(x)\n",
    "\n",
    "# Создаем вектор x\n",
    "x = np.array([1, 2, 3])\n",
    "\n",
    "# Выводим значения функций \n",
    "print(f'f({x}) = {f(x)}')\n",
    "print(f'df({x}) = {df(x)}')\n",
    "print(f'd2f({x}) = {d2f(x)}')\n",
    "print(f'grad_f({x}) = {grad_f(x)}')\n",
    "print(f'hessian_f({x}) = {hessian_f(x)}')\n"
   ]
  },
  {
   "cell_type": "markdown",
   "id": "58727248",
   "metadata": {},
   "source": [
    "<h6 style= 'color: black'> \n",
    "\n",
    "Теоритическая справка\n",
    "Евклидова норма - это расстояние между началом координат и точкой x в n-мерном пространстве. Она вычисляется как корень квадратный из суммы квадратов каждой компоненты вектора x. Например, если у нас есть вектор x = [3, 4], то его Евклидова норма будет равна sqrt(3^2 + 4^2) = 5.\n",
    "\n",
    "Ниже представлен пример кода, который вычисляет Евклидову норму вектора:\n",
    "В этом коде мы импортируем библиотеку NumPy и создаем вектор x = [3, 4]. Затем мы используем функцию np.linalg.norm(x), \n",
    "чтобы вычислить Евклидову норму вектора x. Результат сохраняется в переменной norm_x. \n",
    "<h6>"
   ]
  },
  {
   "cell_type": "code",
   "execution_count": 58,
   "id": "6d2588fe",
   "metadata": {},
   "outputs": [
    {
     "name": "stdout",
     "output_type": "stream",
     "text": [
      "x = [3 4]\n",
      "||x|| = 5.0\n"
     ]
    }
   ],
   "source": [
    "# Вот пример кода, который вычисляет Евклидову норму вектора:\n",
    "\n",
    "import numpy as np\n",
    "\n",
    "x = np.array([3, 4])\n",
    "norm_x = np.linalg.norm(x)\n",
    "\n",
    "print(f'x = {x}')\n",
    "print(f'||x|| = {norm_x}')\n"
   ]
  },
  {
   "cell_type": "markdown",
   "id": "4d6ac0e5",
   "metadata": {},
   "source": [
    "Спасибо за внимание!"
   ]
  }
 ],
 "metadata": {
  "kernelspec": {
   "display_name": "Python 3 (ipykernel)",
   "language": "python",
   "name": "python3"
  },
  "language_info": {
   "codemirror_mode": {
    "name": "ipython",
    "version": 3
   },
   "file_extension": ".py",
   "mimetype": "text/x-python",
   "name": "python",
   "nbconvert_exporter": "python",
   "pygments_lexer": "ipython3",
   "version": "3.9.13"
  }
 },
 "nbformat": 4,
 "nbformat_minor": 5
}
