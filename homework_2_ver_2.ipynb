{
 "cells": [
  {
   "cell_type": "markdown",
   "metadata": {},
   "source": [
    "# <center> Homework 2 </center>"
   ]
  },
  {
   "cell_type": "code",
   "execution_count": 45,
   "metadata": {
    "scrolled": true
   },
   "outputs": [
    {
     "name": "stdout",
     "output_type": "stream",
     "text": [
      "The autoreload extension is already loaded. To reload it, use:\n",
      "  %reload_ext autoreload\n"
     ]
    }
   ],
   "source": [
    "# autoreload позволяет нам подгружать изменения во внешнем коде\n",
    "# без необходимости перезагружать kernel у ноутбука\n",
    "%load_ext autoreload\n",
    "%autoreload 2"
   ]
  },
  {
   "cell_type": "markdown",
   "metadata": {},
   "source": [
    "## 1) Exceptions\n",
    "В модуле `exceptions` объявите следующие исключения:\n",
    "- LowFuelError\n",
    "- NotEnoughFuel\n",
    "- CargoOverload"
   ]
  },
  {
   "cell_type": "code",
   "execution_count": 46,
   "metadata": {},
   "outputs": [],
   "source": [
    "import exceptions\n",
    "\n",
    "# Создаем классы для ошибок, которые могут возникнуть при работе с транспортными средствами\n",
    "class LowFuelError(Exception):\n",
    "    # Эта ошибка возникает, когда топлива осталось мало\n",
    "    pass\n",
    "\n",
    "class NotEnoughFuel(Exception):\n",
    "    # Эта ошибка возникает, когда топлива не хватает для совершения поездки\n",
    "    pass\n",
    "\n",
    "class CargoOverload(Exception):\n",
    "    # Эта ошибка возникает, когда груз превышает допустимый вес для транспортного средства\n",
    "    pass\n"
   ]
  },
  {
   "cell_type": "markdown",
   "metadata": {},
   "source": [
    "## 2) Vehicle \n",
    "\n",
    "<img src=\"https://cs.pikabu.ru/images/big_size_comm/2013-12_4/13874526438897.jpg\" width=300>\n",
    "\n",
    "Доработайте базовый класс `Vehicle`:\n",
    "- добавьте атрибуты `weight`, `started`, `fuel`, `fuel_consumption` со значениями по умолчанию\n",
    "- добавьте инициализатор для установки `weight`, `fuel`, `fuel_consumption`\n",
    "- добавьте метод `start`, который, если ещё не состояние `started`, проверяет, что топлива больше нуля, \n",
    "  и обновляет состояние `started`, иначе выкидывает исключение `exceptions.LowFuelError`\n",
    "- добавьте метод `move`, который проверяет, \n",
    "  что достаточно топлива для преодоления переданной дистанции, \n",
    "  и изменяет количество оставшегося топлива, иначе выкидывает исключение `exceptions.NotEnoughFuel`"
   ]
  },
  {
   "cell_type": "code",
   "execution_count": 47,
   "metadata": {},
   "outputs": [],
   "source": [
    "from abc import ABC\n",
    "\n",
    "class Vehicle(ABC):\n",
    "    def __init__(self, weight=0, fuel=0, fuel_consumption=0):\n",
    "        # инициализация транспортного средства с заданными весом, топливом и расходом топлива\n",
    "        # init это специальный метод в Python, который вызывается при создании нового объекта класса.\n",
    "        # Он используется для инициализации атрибутов объекта с заданными значениями.\n",
    "        # Например, в классе Person мы используем init для установки имени и возраста для каждого объекта\n",
    "        # этого класса. init не является конструктором, так как он не создает объект, а только \n",
    "        # инициализирует его атрибуты. \n",
    "        # init имеет два подчеркивания с каждой стороны, что означает, что он является внутренним методом Python\n",
    "        # и не должен вызываться явно.\n",
    "        self.weight = weight # масса (вес)\n",
    "        self.fuel = fuel  # топливо\n",
    "        self.fuel_consumption = fuel_consumption   # расход топлива\n",
    "        self.started = False    # состояние двигателя (заведен или нет)\n",
    "# Self - это специальный параметр, который используется в методах класса. \n",
    "# Он ссылается на текущий объект класса, для которого вызывается метод. Он нужен для доступа к атрибутам \n",
    "# и другим методам объекта. Например, в методе start мы используем self.started для проверки и обновления \n",
    "# состояния запуска транспортного средства\n",
    "\n",
    "    def start(self):\n",
    "        # метод для запуска транспортного средства\n",
    "        if not self.started: # если транспортное средство еще не запущено\n",
    "            if self.fuel > 0: # если есть топливо в баке (больше ноля)\n",
    "                self.started = True # то говорим \"да\" и  обновляем состояние на запущено\n",
    "            else: # если нет топлива\n",
    "                raise LowFuelError(\"Не хватает топлива для запуска\") # raise это ключевое слово в Python, \n",
    "                # которое используется для возбуждения исключений или ошибок. \n",
    "                # Когда мы используете raise, мы указываем, какой тип исключения хотим вызвать. \n",
    "        else: \n",
    "            print(\"Транспортное средство уже запущено\") # вывести сообщение\n",
    "\n",
    "    def move(self, distance):\n",
    "        # метод, который проверяет, что достаточно топлива для преодоления переданной дистанции\n",
    "        calculating_fuel = distance * self.fuel_consumption # вычислить необходимое количество топлива\n",
    "         # Distance - означает расстояние между двумя точками или объектами. \n",
    "         # В нашем коде distance - это аргумент функции move, \n",
    "         # который задает, на сколько километров мы хотим переместить транспортное средство.\n",
    "         # Например, если мы хотим проехать 10 километров, мы вызываем функцию move с аргументом 10.\n",
    "         # Функция move проверяет, хватит ли топлива для этого расстояния, и если да,\n",
    "         # то уменьшает количество топлива на величину, равную расстоянию умноженному на расход топлива.\n",
    "         # Если нет, то выбрасывает ошибку \"Не хватает топлива для движения\".\n",
    "        \n",
    "        if calculating_fuel <= self.fuel: # если топлива хватает\n",
    "            self.fuel = self.fuel - calculating_fuel # уменьшаем количество оставшегося топлива\n",
    "            print(f\"Транспортное средство проехало {distance} км\") # выводим сообщение\n",
    "        else: # если топлива не хватает\n",
    "            raise NotEnoughFuel(\"Не хватает топлива для движения\") # выбрасываем ошибку"
   ]
  },
  {
   "cell_type": "markdown",
   "metadata": {},
   "source": [
    "## 3) Engine \n",
    "\n",
    "<img src=\"https://upload.wikimedia.org/wikipedia/commons/6/6f/National_gas_engine_%28Rankin_Kennedy%2C_Modern_Engines%2C_Vol_II%29.jpg\" width=250>\n",
    "\n",
    "Создайте датакласс `Engine`, добавьте атрибуты `volume` и `pistons`"
   ]
  },
  {
   "cell_type": "code",
   "execution_count": 48,
   "metadata": {},
   "outputs": [],
   "source": [
    "# Создаем датакласс Engine в модуле engine, добавляем атрибуты volume и pistons\n",
    "\n",
    "# Импорт модуля dataclasses\n",
    "from dataclasses import dataclass\n",
    "\n",
    "# Создаем датакласс Engine с атрибутами volume и pistons\n",
    "@dataclass\n",
    "class Engine:\n",
    "    volume: int\n",
    "    pistons: int\n",
    "# Датаклассы в Python - это специальные классы, которые автоматически генерируют некоторые методы \n",
    "# для работы с данными, такие как init, repr, eq и другие. \n",
    "# Для создания датакласса нужно использовать декоратор @dataclass,\n",
    "# который импортируется из модуля dataclasses.\n",
    "# Декоратор - это функция, которая принимает другую функцию или класс и изменяет её поведение. \n",
    "# В данном случае декоратор @dataclass принимает класс Engine и делает его датаклассом.\n",
    "\n",
    "# Атрибуты датакласса объявляются как переменные класса с указанием их типов. \n",
    "# В данном случае атрибуты volume и pistons имеют тип int, то есть целое число. "
   ]
  },
  {
   "cell_type": "markdown",
   "metadata": {},
   "source": [
    "## 4) Car \n",
    "\n",
    "<img src=\"https://lh3.googleusercontent.com/proxy/RJqzSJqZFQrx7xOXimZQ4ooInGE6ViJdwz7JZZ_b__Eun-stRH2NMw47fM4je2hL1afRtmpKS9kZUVY0p2YcaZVtJ7bKRw3wWHRRa6zVUbeIb5TYLNkwx5A\" width=250>\n",
    "\n",
    "Cоздайте класс `Car`\n",
    "    - класс `Car` должен быть наследником `Vehicle`\n",
    "    - добавьте атрибут `engine` классу `Car`\n",
    "    - объявите метод `set_engine`, который принимает в себя экземпляр объекта `Engine` и устанавливает на текущий экземпляр `Car`"
   ]
  },
  {
   "cell_type": "code",
   "execution_count": 49,
   "metadata": {},
   "outputs": [],
   "source": [
    "# В этом модуле мы создаете класс Car, который представляет автомобиль. Этот класс наследуется от класса Vehicle,\n",
    "# который определен в модуле base. Это означает, что класс Car наследует все атрибуты и методы класса Vehicle,\n",
    "# такие как weight, started, fuel, fuel_consumption.\n",
    "# Однако класс Car имеет дополнительный атрибут engine, который представляет двигатель автомобиля.\n",
    "# Этот атрибут имеет значение по умолчанию None, что означает, что по умолчанию автомобиль не имеет двигателя\n",
    "#(потом мы его установим).\n",
    "# Чтобы установить двигатель на автомобиль, мы определяеем метод set_engine, который принимает в себя экземпляр объекта Engine\n",
    "# и устанавливает его на текущий экземпляр Car. Объект Engine определен в модуле engine и имеет атрибуты volume и pistons.\n",
    "# Например, вы можете создать объект Car с весом 2000 кг (2 t), топливом 100 литров и расходом топлива 8,7 литра на километр:\n",
    "\n",
    "class Car(Vehicle):\n",
    "    def __init__(self, weight=0, fuel=0, fuel_consumption=0):\n",
    "        super().__init__(weight, fuel, fuel_consumption)\n",
    "        self.engine = None\n",
    "\n",
    "    def set_engine(self, engine: Engine):\n",
    "        self.engine = engine\n",
    "        print(f\"Установлен двигатель объемом {engine.volume} л и {engine.pistons} цилиндрами\")"
   ]
  },
  {
   "cell_type": "markdown",
   "metadata": {},
   "source": [
    "## 5) Plane\n",
    "\n",
    "<img src=\"http://www.weirduniverse.net/images/2017/1934parachute02.jpg\" width=250>\n",
    "\n",
    "Создайте класс `Plane`\n",
    "- класс `Plane` должен быть наследником `Vehicle`\n",
    "- добавьте атрибуты `cargo` и `max_cargo` классу `Plane`\n",
    "- добавьте `max_cargo` в инициализатор (переопределите родительский)\n",
    "- объявите метод `load_cargo`, который принимает число, проверяет, что в сумме с текущим `cargo` не будет перегруза, и обновляет значение, в ином случае выкидывает исключение `exceptions.CargoOverload`\n",
    "- объявите метод `remove_all_cargo`, который обнуляет значение `cargo` и возвращает значение `cargo`, которое было до обнуления"
   ]
  },
  {
   "cell_type": "code",
   "execution_count": 50,
   "metadata": {},
   "outputs": [],
   "source": [
    "# Здесь мы определяем класс для самолета, который наследуется от базового класса Vehicle (для транспортных средств) \n",
    "# Это означает, что самолет будет иметь все те же атрибуты и методы, что и любое другое транспортное средство.\n",
    "\n",
    "class Plane(Vehicle):\n",
    "    # Здесь мы задаем атрибуты по умолчанию для каждого самолета\n",
    "    # Эти атрибуты будут присвоены каждому экземпляру класса Plane при его создании\n",
    "     \n",
    "    def __init__(self, weight=0, fuel=0, fuel_consumption=0, max_cargo=0):\n",
    "        # Вызываем инициализатор базового класса для установки веса, топлива и расхода топлива\n",
    "        # Это означает, что мы используем тот же код, что и в классе Vehicle, чтобы не повторяться\n",
    "        # Мы передаем значения атрибутов weight, fuel и fuel_consumption из текущего экземпляра класса Plane\n",
    "        # в качестве аргументов для инициализатора базового класса\n",
    "        super().__init__(weight, fuel, fuel_consumption)\n",
    "        # super() в Python - это встроенная функция, которая позволяет получить доступ к методам и свойствам \n",
    "        # родительского или соседнего класса. \n",
    "        # Груз самолета в килограммах (изначально 0)\n",
    "        # Это специфический атрибут для самолета, который не имеет смысла для других транспортных средств\n",
    "        # Мы присваиваем ему значение 0 по умолчанию, но можем передать другое значение при создании экземпляра класса Plane\n",
    "        self.cargo = 0\n",
    "        # Максимальный допустимый груз самолета в килограммах\n",
    "        # Это также специфический атрибут для самолета, который ограничивает количество груза,\n",
    "        # которое можно загрузить на самолет\n",
    "        self.max_cargo = max_cargo\n",
    "        # Мы присваиваем ему значение 0 по умолчанию, но можем передать другое значение при создании экземпляра класса Plane\n",
    "        # Например: создаем экземпляр класса Plane с максимальным грузом 1000 кг\n",
    "        # plane = Plane(max_cargo=1000)\n",
    "        # выводим значение атрибута max_cargo для этого экземпляра\n",
    "        # print(plane.max_cargo) # 1000\n",
    "        \n",
    "     # метод для загрузки груза на самолет\n",
    "def load_cargo(self, amount):\n",
    "        # если сумма текущего груза и загружаемого груза не превышает максимальный груз\n",
    "    if self.cargo + amount <= self.max_cargo:\n",
    "            # увеличиваем текущий груз на загружаемый груз\n",
    "            self.cargo += amount\n",
    "            # выводим сообщение о загрузке груза\n",
    "            print(f\"Груз загружен: {amount} кг\")\n",
    "    else:\n",
    "            # иначе выкидываем исключение о перегрузе груза\n",
    "        raise CargoOverload(\"Груз превышает допустимый вес для транспортного средства\")\n",
    "\n",
    " # метод для разгрузки всего груза с самолета\n",
    "def remove_all_cargo(self):\n",
    "        # сохраняем текущий груз в переменную cargo\n",
    "        cargo = self.cargo\n",
    "        # обнуляем текущий груз \n",
    "        self.cargo = 0\n",
    "        # выводим сообщение о разгрузке груза\n",
    "        print(f\"Груз разгружен: {cargo} кг\")\n",
    "        # возвращаем значение разгруженного груза \n",
    "        return cargo\n"
   ]
  }
 ],
 "metadata": {
  "kernelspec": {
   "display_name": "Python 3 (ipykernel)",
   "language": "python",
   "name": "python3"
  },
  "language_info": {
   "codemirror_mode": {
    "name": "ipython",
    "version": 3
   },
   "file_extension": ".py",
   "mimetype": "text/x-python",
   "name": "python",
   "nbconvert_exporter": "python",
   "pygments_lexer": "ipython3",
   "version": "3.9.13"
  },
  "varInspector": {
   "cols": {
    "lenName": 16,
    "lenType": 16,
    "lenVar": 40
   },
   "kernels_config": {
    "python": {
     "delete_cmd_postfix": "",
     "delete_cmd_prefix": "del ",
     "library": "var_list.py",
     "varRefreshCmd": "print(var_dic_list())"
    },
    "r": {
     "delete_cmd_postfix": ") ",
     "delete_cmd_prefix": "rm(",
     "library": "var_list.r",
     "varRefreshCmd": "cat(var_dic_list()) "
    }
   },
   "types_to_exclude": [
    "module",
    "function",
    "builtin_function_or_method",
    "instance",
    "_Feature"
   ],
   "window_display": false
  }
 },
 "nbformat": 4,
 "nbformat_minor": 2
}
